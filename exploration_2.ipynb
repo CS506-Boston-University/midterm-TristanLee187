{
 "cells": [
  {
   "cell_type": "code",
   "execution_count": 215,
   "id": "e51b2492",
   "metadata": {},
   "outputs": [],
   "source": [
    "import pandas as pd\n",
    "import numpy as np\n",
    "from sklearn.model_selection import train_test_split\n",
    "from sklearn.metrics import accuracy_score, confusion_matrix, f1_score\n",
    "from sklearn.ensemble import RandomForestClassifier\n",
    "from sklearn.tree import DecisionTreeClassifier\n",
    "import matplotlib.pyplot as plt"
   ]
  },
  {
   "cell_type": "code",
   "execution_count": 235,
   "id": "5c816e35",
   "metadata": {},
   "outputs": [],
   "source": [
    "X_train = pd.read_csv('data/X_train.csv')"
   ]
  },
  {
   "cell_type": "code",
   "execution_count": 236,
   "id": "6d2ef3ce",
   "metadata": {},
   "outputs": [],
   "source": [
    "merchant_stats = X_train[X_train['is_fraud'] == 0].groupby('merchant').agg(mean_amt=('amt', np.mean), std_amt=('amt', np.std)).to_dict()\n",
    "person_stats =X_train[X_train['is_fraud'] == 0].groupby('cc_num').agg(mean_amt=('amt', np.mean), std_amt=('amt', np.std)).to_dict()\n",
    "user_merchant_stats = X_train[X_train['is_fraud'] == 0].groupby(['cc_num', 'merchant']).agg(mean_amt=('amt', np.mean), std_amt=('amt', np.std)).to_dict()"
   ]
  },
  {
   "cell_type": "code",
   "execution_count": 237,
   "id": "6e485461",
   "metadata": {},
   "outputs": [],
   "source": [
    "def transform(df):\n",
    "    df['category'] = df['category'].map(lambda x: 1 if x in ('grocery_pos', 'misc_net', 'shopping_net', 'shopping_pos') else 0)\n",
    "    df['hour'] = pd.to_datetime(df['unix_time'],unit='s').dt.hour\n",
    "    df['gender'] = df['gender'].map(lambda x: 0 if x=='M' else 1)\n",
    "    def add_merchant_outlier_column(df):\n",
    "        zipped_merchant_amt_column = pd.Series(zip(df['merchant'], df['amt']))\n",
    "        def merchant_outlier_column(merchant_amt):\n",
    "            merchant, amt = merchant_amt\n",
    "            if merchant not in merchant_stats['mean_amt'] or np.isnan(merchant_stats['std_amt'][merchant]):\n",
    "                return 0\n",
    "            mn, stddev = merchant_stats['mean_amt'][merchant], merchant_stats['std_amt'][merchant]\n",
    "            return (abs(mn-amt))/stddev\n",
    "        outlier_column = zipped_merchant_amt_column.map(merchant_outlier_column)\n",
    "        df['merchant_outlier'] = outlier_column\n",
    "\n",
    "    add_merchant_outlier_column(df)\n",
    "    \n",
    "    def add_user_outlier_column(df):\n",
    "        zipped_user_amt_column = pd.Series(zip(df['cc_num'], df['amt']))\n",
    "        def user_outlier_column(user_amt):\n",
    "            user, amt = user_amt\n",
    "            if user not in person_stats['mean_amt'] or np.isnan(person_stats['std_amt'][user]):\n",
    "                return 0\n",
    "            mn, stddev = person_stats['mean_amt'][user], person_stats['std_amt'][user]\n",
    "            return (abs(mn-amt))/stddev\n",
    "        outlier_column = zipped_user_amt_column.map(user_outlier_column)\n",
    "        df['user_outlier'] = outlier_column\n",
    "\n",
    "    add_user_outlier_column(df)\n",
    "    \n",
    "    def add_user_merchant_outlier_column(df):\n",
    "        zipped_user_merchant_amt_column = pd.Series(zip(df['cc_num'], df['merchant'], df['amt']))\n",
    "        def user_merchant_outlier_column(user_merchant_amt):\n",
    "            user, merchant, amt = user_merchant_amt\n",
    "            if (user, merchant) not in user_merchant_stats['mean_amt'] or np.isnan(user_merchant_stats['std_amt'][(user, merchant)]):\n",
    "                return 0\n",
    "            mn, stddev = user_merchant_stats['mean_amt'][(user, merchant)], user_merchant_stats['std_amt'][(user, merchant)]\n",
    "            if stddev == 0:\n",
    "                return 0\n",
    "            return (abs(mn-amt))/stddev\n",
    "        outlier_column = zipped_user_merchant_amt_column.map(user_merchant_outlier_column)\n",
    "        df['user_merchant_outlier'] = outlier_column\n",
    "\n",
    "    add_user_merchant_outlier_column(df)"
   ]
  },
  {
   "cell_type": "code",
   "execution_count": 238,
   "id": "ccbdf18a",
   "metadata": {},
   "outputs": [],
   "source": [
    "transform(X_train)\n",
    "X_train = X_train[['category', 'hour', 'gender', 'merchant_outlier', 'user_outlier', 'user_merchant_outlier', 'is_fraud']]\n",
    "# X_train = X_train._get_numeric_data()"
   ]
  },
  {
   "cell_type": "code",
   "execution_count": 239,
   "id": "4b814df6",
   "metadata": {},
   "outputs": [],
   "source": [
    "X_train, X_test, Y_train, Y_test = train_test_split(\n",
    "        X_train.drop(['is_fraud'], axis=1),\n",
    "        X_train['is_fraud'],\n",
    "        test_size=1/5,\n",
    "        random_state=0\n",
    "    )"
   ]
  },
  {
   "cell_type": "code",
   "execution_count": 222,
   "id": "9ac7f930",
   "metadata": {},
   "outputs": [],
   "source": [
    "model = DecisionTreeClassifier().fit(X_train, Y_train)"
   ]
  },
  {
   "cell_type": "code",
   "execution_count": 223,
   "id": "17c64cce",
   "metadata": {},
   "outputs": [
    {
     "name": "stdout",
     "output_type": "stream",
     "text": [
      "Accuracy on testing set =  0.9974190496755817\n",
      "F1 score on testing set =  0.6769626769626771\n"
     ]
    }
   ],
   "source": [
    "predictions = model.predict(X_test)\n",
    "print(\"Accuracy on testing set = \", accuracy_score(Y_test, predictions))\n",
    "print(\"F1 score on testing set = \", f1_score(Y_test, predictions))"
   ]
  },
  {
   "cell_type": "code",
   "execution_count": 224,
   "id": "44a4dc11",
   "metadata": {},
   "outputs": [
    {
     "data": {
      "text/plain": [
       "(410.0, 97251)"
      ]
     },
     "execution_count": 224,
     "metadata": {},
     "output_type": "execute_result"
    }
   ],
   "source": [
    "predictions.sum(), len(predictions)"
   ]
  },
  {
   "cell_type": "code",
   "execution_count": 225,
   "id": "89495b97",
   "metadata": {},
   "outputs": [],
   "source": [
    "# load/transform testing data\n",
    "X_test = pd.read_csv('data/X_test.csv')\n",
    "submission = X_test[['Id']]\n",
    "transform(X_test)\n",
    "X_test = X_test[['category', 'hour', 'gender', 'merchant_outlier', 'user_outlier', 'user_merchant_outlier', 'is_fraud']]\n",
    "# X_test = X_test._get_numeric_data()"
   ]
  },
  {
   "cell_type": "code",
   "execution_count": 226,
   "id": "42af0157",
   "metadata": {},
   "outputs": [],
   "source": [
    "predictions = model.predict(X_test.drop(columns='is_fraud'))"
   ]
  },
  {
   "cell_type": "code",
   "execution_count": 227,
   "id": "016631a2",
   "metadata": {},
   "outputs": [
    {
     "data": {
      "text/plain": [
       "(5077.0, 69465)"
      ]
     },
     "execution_count": 227,
     "metadata": {},
     "output_type": "execute_result"
    }
   ],
   "source": [
    "predictions.sum(), len(predictions)"
   ]
  },
  {
   "cell_type": "code",
   "execution_count": 240,
   "id": "b6f16d10",
   "metadata": {},
   "outputs": [
    {
     "data": {
      "text/html": [
       "<div>\n",
       "<style scoped>\n",
       "    .dataframe tbody tr th:only-of-type {\n",
       "        vertical-align: middle;\n",
       "    }\n",
       "\n",
       "    .dataframe tbody tr th {\n",
       "        vertical-align: top;\n",
       "    }\n",
       "\n",
       "    .dataframe thead th {\n",
       "        text-align: right;\n",
       "    }\n",
       "</style>\n",
       "<table border=\"1\" class=\"dataframe\">\n",
       "  <thead>\n",
       "    <tr style=\"text-align: right;\">\n",
       "      <th></th>\n",
       "      <th>category</th>\n",
       "      <th>hour</th>\n",
       "      <th>gender</th>\n",
       "      <th>merchant_outlier</th>\n",
       "      <th>user_outlier</th>\n",
       "      <th>user_merchant_outlier</th>\n",
       "    </tr>\n",
       "  </thead>\n",
       "  <tbody>\n",
       "    <tr>\n",
       "      <th>239216</th>\n",
       "      <td>0</td>\n",
       "      <td>14</td>\n",
       "      <td>1</td>\n",
       "      <td>0.402590</td>\n",
       "      <td>0.129201</td>\n",
       "      <td>0.707107</td>\n",
       "    </tr>\n",
       "    <tr>\n",
       "      <th>55990</th>\n",
       "      <td>1</td>\n",
       "      <td>2</td>\n",
       "      <td>1</td>\n",
       "      <td>0.643857</td>\n",
       "      <td>0.317656</td>\n",
       "      <td>0.240673</td>\n",
       "    </tr>\n",
       "    <tr>\n",
       "      <th>348667</th>\n",
       "      <td>0</td>\n",
       "      <td>14</td>\n",
       "      <td>1</td>\n",
       "      <td>0.529077</td>\n",
       "      <td>0.485112</td>\n",
       "      <td>0.751969</td>\n",
       "    </tr>\n",
       "    <tr>\n",
       "      <th>79718</th>\n",
       "      <td>1</td>\n",
       "      <td>4</td>\n",
       "      <td>0</td>\n",
       "      <td>0.257508</td>\n",
       "      <td>0.882900</td>\n",
       "      <td>0.000000</td>\n",
       "    </tr>\n",
       "    <tr>\n",
       "      <th>118459</th>\n",
       "      <td>1</td>\n",
       "      <td>1</td>\n",
       "      <td>1</td>\n",
       "      <td>0.741638</td>\n",
       "      <td>0.884181</td>\n",
       "      <td>0.000000</td>\n",
       "    </tr>\n",
       "    <tr>\n",
       "      <th>...</th>\n",
       "      <td>...</td>\n",
       "      <td>...</td>\n",
       "      <td>...</td>\n",
       "      <td>...</td>\n",
       "      <td>...</td>\n",
       "      <td>...</td>\n",
       "    </tr>\n",
       "    <tr>\n",
       "      <th>439107</th>\n",
       "      <td>0</td>\n",
       "      <td>9</td>\n",
       "      <td>0</td>\n",
       "      <td>1.631794</td>\n",
       "      <td>0.273178</td>\n",
       "      <td>0.512592</td>\n",
       "    </tr>\n",
       "    <tr>\n",
       "      <th>117952</th>\n",
       "      <td>0</td>\n",
       "      <td>14</td>\n",
       "      <td>0</td>\n",
       "      <td>1.228940</td>\n",
       "      <td>4.862740</td>\n",
       "      <td>0.707107</td>\n",
       "    </tr>\n",
       "    <tr>\n",
       "      <th>435829</th>\n",
       "      <td>1</td>\n",
       "      <td>9</td>\n",
       "      <td>1</td>\n",
       "      <td>0.299494</td>\n",
       "      <td>0.593854</td>\n",
       "      <td>0.000000</td>\n",
       "    </tr>\n",
       "    <tr>\n",
       "      <th>305711</th>\n",
       "      <td>0</td>\n",
       "      <td>8</td>\n",
       "      <td>1</td>\n",
       "      <td>0.488397</td>\n",
       "      <td>0.091438</td>\n",
       "      <td>0.047295</td>\n",
       "    </tr>\n",
       "    <tr>\n",
       "      <th>461484</th>\n",
       "      <td>0</td>\n",
       "      <td>10</td>\n",
       "      <td>1</td>\n",
       "      <td>0.551817</td>\n",
       "      <td>0.201894</td>\n",
       "      <td>0.707107</td>\n",
       "    </tr>\n",
       "  </tbody>\n",
       "</table>\n",
       "<p>389003 rows × 6 columns</p>\n",
       "</div>"
      ],
      "text/plain": [
       "        category  hour  gender  merchant_outlier  user_outlier  \\\n",
       "239216         0    14       1          0.402590      0.129201   \n",
       "55990          1     2       1          0.643857      0.317656   \n",
       "348667         0    14       1          0.529077      0.485112   \n",
       "79718          1     4       0          0.257508      0.882900   \n",
       "118459         1     1       1          0.741638      0.884181   \n",
       "...          ...   ...     ...               ...           ...   \n",
       "439107         0     9       0          1.631794      0.273178   \n",
       "117952         0    14       0          1.228940      4.862740   \n",
       "435829         1     9       1          0.299494      0.593854   \n",
       "305711         0     8       1          0.488397      0.091438   \n",
       "461484         0    10       1          0.551817      0.201894   \n",
       "\n",
       "        user_merchant_outlier  \n",
       "239216               0.707107  \n",
       "55990                0.240673  \n",
       "348667               0.751969  \n",
       "79718                0.000000  \n",
       "118459               0.000000  \n",
       "...                       ...  \n",
       "439107               0.512592  \n",
       "117952               0.707107  \n",
       "435829               0.000000  \n",
       "305711               0.047295  \n",
       "461484               0.707107  \n",
       "\n",
       "[389003 rows x 6 columns]"
      ]
     },
     "execution_count": 240,
     "metadata": {},
     "output_type": "execute_result"
    }
   ],
   "source": [
    "# more exploration\n",
    "X_train"
   ]
  },
  {
   "cell_type": "code",
   "execution_count": 337,
   "id": "55bedc51",
   "metadata": {},
   "outputs": [],
   "source": [
    "# SVD?\n",
    "u,s,vt_train = np.linalg.svd(X_train, full_matrices=False)"
   ]
  },
  {
   "cell_type": "code",
   "execution_count": 242,
   "id": "eb88604c",
   "metadata": {},
   "outputs": [
    {
     "data": {
      "text/plain": [
       "[<matplotlib.lines.Line2D at 0x130368c10>]"
      ]
     },
     "execution_count": 242,
     "metadata": {},
     "output_type": "execute_result"
    },
    {
     "data": {
      "image/png": "[encoded data removed]",
      "text/plain": [
       "<Figure size 640x480 with 1 Axes>"
      ]
     },
     "metadata": {},
     "output_type": "display_data"
    }
   ],
   "source": [
    "plt.plot(s)"
   ]
  },
  {
   "cell_type": "code",
   "execution_count": 295,
   "id": "bc2e0f41",
   "metadata": {},
   "outputs": [],
   "source": [
    "s[2:] = 0\n",
    "reduced_X_train = u@np.diag(s)@vt"
   ]
  },
  {
   "cell_type": "code",
   "execution_count": 296,
   "id": "cd881ea6",
   "metadata": {},
   "outputs": [
    {
     "data": {
      "text/plain": [
       "(389003, 6)"
      ]
     },
     "execution_count": 296,
     "metadata": {},
     "output_type": "execute_result"
    }
   ],
   "source": [
    "reduced_X_train.shape"
   ]
  },
  {
   "cell_type": "code",
   "execution_count": 297,
   "id": "71957cf1",
   "metadata": {},
   "outputs": [],
   "source": [
    "diffs = np.array(X_train) - reduced_X_train"
   ]
  },
  {
   "cell_type": "code",
   "execution_count": 298,
   "id": "ccda6648",
   "metadata": {},
   "outputs": [],
   "source": [
    "norms = np.array(list(map(np.linalg.norm, diffs)))"
   ]
  },
  {
   "cell_type": "code",
   "execution_count": 299,
   "id": "d1b4320a",
   "metadata": {},
   "outputs": [
    {
     "data": {
      "text/plain": [
       "<matplotlib.collections.PathCollection at 0x131637880>"
      ]
     },
     "execution_count": 299,
     "metadata": {},
     "output_type": "execute_result"
    },
    {
     "data": {
      "image/png": "[encoded data removed]",
      "text/plain": [
       "<Figure size 640x480 with 1 Axes>"
      ]
     },
     "metadata": {},
     "output_type": "display_data"
    }
   ],
   "source": [
    "plt.scatter(norms, Y_train)"
   ]
  },
  {
   "cell_type": "code",
   "execution_count": 300,
   "id": "f52fd5dd",
   "metadata": {},
   "outputs": [
    {
     "data": {
      "text/plain": [
       "(1.07175810865164, 1.0159547526284234)"
      ]
     },
     "execution_count": 300,
     "metadata": {},
     "output_type": "execute_result"
    }
   ],
   "source": [
    "m,std = norms.mean(), norms.std()\n",
    "m,std"
   ]
  },
  {
   "cell_type": "code",
   "execution_count": 301,
   "id": "0ec19ed8",
   "metadata": {},
   "outputs": [],
   "source": [
    "frauds_norms = [norms[i] for i in range(len(norms)) if Y_train.iloc[i]==1]"
   ]
  },
  {
   "cell_type": "code",
   "execution_count": 309,
   "id": "4890e20f",
   "metadata": {},
   "outputs": [
    {
     "name": "stdout",
     "output_type": "stream",
     "text": [
      "1510\n",
      "1149\n"
     ]
    }
   ],
   "source": [
    "print(len(frauds_norms))\n",
    "print(len([i for i in frauds_norms if (i>m+2*std)]))"
   ]
  },
  {
   "cell_type": "code",
   "execution_count": 310,
   "id": "859b9cd3",
   "metadata": {},
   "outputs": [
    {
     "name": "stdout",
     "output_type": "stream",
     "text": [
      "389003\n",
      "8831\n"
     ]
    }
   ],
   "source": [
    "print(len(norms))\n",
    "print(len([i for i in norms if (i>m+2*std)]))"
   ]
  },
  {
   "cell_type": "code",
   "execution_count": 338,
   "id": "f077561f",
   "metadata": {},
   "outputs": [],
   "source": [
    "u,s,vt = np.linalg.svd(X_test, full_matrices=False)"
   ]
  },
  {
   "cell_type": "code",
   "execution_count": 333,
   "id": "63a6a211",
   "metadata": {},
   "outputs": [
    {
     "data": {
      "text/plain": [
       "[<matplotlib.lines.Line2D at 0x131a62580>]"
      ]
     },
     "execution_count": 333,
     "metadata": {},
     "output_type": "execute_result"
    },
    {
     "data": {
      "image/png": "[encoded data removed]",
      "text/plain": [
       "<Figure size 640x480 with 1 Axes>"
      ]
     },
     "metadata": {},
     "output_type": "display_data"
    }
   ],
   "source": [
    "plt.plot(s)"
   ]
  },
  {
   "cell_type": "code",
   "execution_count": 340,
   "id": "52e76c00",
   "metadata": {},
   "outputs": [
    {
     "name": "stdout",
     "output_type": "stream",
     "text": [
      "367\n",
      "249\n",
      "97251\n",
      "2135\n"
     ]
    }
   ],
   "source": [
    "s[3:] = 0\n",
    "reduced_X_test = u@np.diag(s)@vt\n",
    "diffs = np.array(X_test) - reduced_X_test\n",
    "norms = np.array(list(map(np.linalg.norm, diffs)))\n",
    "m,std = norms.mean(), norms.std()\n",
    "frauds_norms = [norms[i] for i in range(len(norms)) if Y_test.iloc[i]==1]\n",
    "print(len(frauds_norms))\n",
    "print(len([i for i in frauds_norms if (i>m+2*std)]))\n",
    "print(len(norms))\n",
    "print(len([i for i in norms if (i>m+2*std)]))"
   ]
  },
  {
   "cell_type": "code",
   "execution_count": 342,
   "id": "0cd7b464",
   "metadata": {},
   "outputs": [
    {
     "data": {
      "text/plain": [
       "0    3.0\n",
       "1    3.5\n",
       "2    4.0\n",
       "3    4.5\n",
       "4    5.0\n",
       "dtype: float64"
      ]
     },
     "execution_count": 342,
     "metadata": {},
     "output_type": "execute_result"
    }
   ],
   "source": [
    "(pd.Series([1,2,3,4,5])+5)/2"
   ]
  },
  {
   "cell_type": "code",
   "execution_count": 344,
   "id": "989968f0",
   "metadata": {},
   "outputs": [
    {
     "data": {
      "text/html": [
       "<div>\n",
       "<style scoped>\n",
       "    .dataframe tbody tr th:only-of-type {\n",
       "        vertical-align: middle;\n",
       "    }\n",
       "\n",
       "    .dataframe tbody tr th {\n",
       "        vertical-align: top;\n",
       "    }\n",
       "\n",
       "    .dataframe thead th {\n",
       "        text-align: right;\n",
       "    }\n",
       "</style>\n",
       "<table border=\"1\" class=\"dataframe\">\n",
       "  <thead>\n",
       "    <tr style=\"text-align: right;\">\n",
       "      <th></th>\n",
       "      <th>Id</th>\n",
       "      <th>cc_num</th>\n",
       "      <th>merchant</th>\n",
       "      <th>category</th>\n",
       "      <th>amt</th>\n",
       "      <th>first</th>\n",
       "      <th>last</th>\n",
       "      <th>gender</th>\n",
       "      <th>street</th>\n",
       "      <th>city</th>\n",
       "      <th>...</th>\n",
       "      <th>city_pop</th>\n",
       "      <th>job</th>\n",
       "      <th>dob</th>\n",
       "      <th>trans_num</th>\n",
       "      <th>unix_time</th>\n",
       "      <th>merch_lat</th>\n",
       "      <th>merch_long</th>\n",
       "      <th>is_fraud</th>\n",
       "      <th>trans_date</th>\n",
       "      <th>trans_time</th>\n",
       "    </tr>\n",
       "  </thead>\n",
       "  <tbody>\n",
       "    <tr>\n",
       "      <th>0</th>\n",
       "      <td>205743</td>\n",
       "      <td>5.596350e+15</td>\n",
       "      <td>fraud_Berge LLC</td>\n",
       "      <td>gas_transport</td>\n",
       "      <td>72.18</td>\n",
       "      <td>Joseph</td>\n",
       "      <td>Moody</td>\n",
       "      <td>M</td>\n",
       "      <td>5901 Foster Pine</td>\n",
       "      <td>Kenner</td>\n",
       "      <td>...</td>\n",
       "      <td>68211</td>\n",
       "      <td>Engineer, petroleum</td>\n",
       "      <td>23/04/1941</td>\n",
       "      <td>5223f3d810e0083482e47a5c3a1eba94</td>\n",
       "      <td>1378023768</td>\n",
       "      <td>30.424083</td>\n",
       "      <td>-90.080958</td>\n",
       "      <td>0.0</td>\n",
       "      <td>2020-09-01</td>\n",
       "      <td>08:22:00</td>\n",
       "    </tr>\n",
       "    <tr>\n",
       "      <th>1</th>\n",
       "      <td>465349</td>\n",
       "      <td>4.311370e+18</td>\n",
       "      <td>fraud_Eichmann, Bogan and Rodriguez</td>\n",
       "      <td>gas_transport</td>\n",
       "      <td>36.66</td>\n",
       "      <td>Phillip</td>\n",
       "      <td>Delacruz</td>\n",
       "      <td>M</td>\n",
       "      <td>26678 Lisa Locks Apt. 904</td>\n",
       "      <td>Iliff</td>\n",
       "      <td>...</td>\n",
       "      <td>648</td>\n",
       "      <td>Community arts worker</td>\n",
       "      <td>21/09/1969</td>\n",
       "      <td>25f3a9b8613a9745c5802031bd3a2c62</td>\n",
       "      <td>1386834132</td>\n",
       "      <td>39.871664</td>\n",
       "      <td>-103.457961</td>\n",
       "      <td>0.0</td>\n",
       "      <td>2020-09-01</td>\n",
       "      <td>08:22:00</td>\n",
       "    </tr>\n",
       "    <tr>\n",
       "      <th>2</th>\n",
       "      <td>17312</td>\n",
       "      <td>2.264940e+15</td>\n",
       "      <td>fraud_Ankunding-Carroll</td>\n",
       "      <td>travel</td>\n",
       "      <td>1.74</td>\n",
       "      <td>Juan</td>\n",
       "      <td>Sherman</td>\n",
       "      <td>M</td>\n",
       "      <td>5939 Garcia Forges Suite 297</td>\n",
       "      <td>San Antonio</td>\n",
       "      <td>...</td>\n",
       "      <td>1595797</td>\n",
       "      <td>Land</td>\n",
       "      <td>17/10/1995</td>\n",
       "      <td>2a6f3f7c697bc721a80078aefd68d857</td>\n",
       "      <td>1372338223</td>\n",
       "      <td>28.456118</td>\n",
       "      <td>-98.491336</td>\n",
       "      <td>0.0</td>\n",
       "      <td>2020-09-01</td>\n",
       "      <td>08:22:00</td>\n",
       "    </tr>\n",
       "    <tr>\n",
       "      <th>3</th>\n",
       "      <td>234968</td>\n",
       "      <td>2.224100e+15</td>\n",
       "      <td>fraud_Schumm, Bauch and Ondricka</td>\n",
       "      <td>grocery_pos</td>\n",
       "      <td>140.99</td>\n",
       "      <td>Sheri</td>\n",
       "      <td>Thomas</td>\n",
       "      <td>F</td>\n",
       "      <td>019 Kimberly Light Apt. 039</td>\n",
       "      <td>Kings Bay</td>\n",
       "      <td>...</td>\n",
       "      <td>1293</td>\n",
       "      <td>Naval architect</td>\n",
       "      <td>11/09/1963</td>\n",
       "      <td>fcd03eb50b00fe682d8a47f3bec089a6</td>\n",
       "      <td>1379131971</td>\n",
       "      <td>31.292136</td>\n",
       "      <td>-82.002506</td>\n",
       "      <td>0.0</td>\n",
       "      <td>2020-09-01</td>\n",
       "      <td>08:22:00</td>\n",
       "    </tr>\n",
       "    <tr>\n",
       "      <th>4</th>\n",
       "      <td>194255</td>\n",
       "      <td>3.527540e+15</td>\n",
       "      <td>fraud_Gerlach Inc</td>\n",
       "      <td>shopping_net</td>\n",
       "      <td>1722.19</td>\n",
       "      <td>Teresa</td>\n",
       "      <td>Stein</td>\n",
       "      <td>F</td>\n",
       "      <td>2838 White Fields Apt. 473</td>\n",
       "      <td>Brunson</td>\n",
       "      <td>...</td>\n",
       "      <td>1725</td>\n",
       "      <td>Social researcher</td>\n",
       "      <td>05/12/1974</td>\n",
       "      <td>d3105e269285b69b334e99433d6a6585</td>\n",
       "      <td>1377711655</td>\n",
       "      <td>33.067620</td>\n",
       "      <td>-80.201090</td>\n",
       "      <td>0.0</td>\n",
       "      <td>2020-09-01</td>\n",
       "      <td>08:22:00</td>\n",
       "    </tr>\n",
       "    <tr>\n",
       "      <th>...</th>\n",
       "      <td>...</td>\n",
       "      <td>...</td>\n",
       "      <td>...</td>\n",
       "      <td>...</td>\n",
       "      <td>...</td>\n",
       "      <td>...</td>\n",
       "      <td>...</td>\n",
       "      <td>...</td>\n",
       "      <td>...</td>\n",
       "      <td>...</td>\n",
       "      <td>...</td>\n",
       "      <td>...</td>\n",
       "      <td>...</td>\n",
       "      <td>...</td>\n",
       "      <td>...</td>\n",
       "      <td>...</td>\n",
       "      <td>...</td>\n",
       "      <td>...</td>\n",
       "      <td>...</td>\n",
       "      <td>...</td>\n",
       "      <td>...</td>\n",
       "    </tr>\n",
       "    <tr>\n",
       "      <th>486249</th>\n",
       "      <td>502355</td>\n",
       "      <td>4.292900e+18</td>\n",
       "      <td>fraud_Wilkinson PLC</td>\n",
       "      <td>kids_pets</td>\n",
       "      <td>4.30</td>\n",
       "      <td>Jeffrey</td>\n",
       "      <td>Smith</td>\n",
       "      <td>M</td>\n",
       "      <td>135 Joseph Mountains</td>\n",
       "      <td>Sula</td>\n",
       "      <td>...</td>\n",
       "      <td>218</td>\n",
       "      <td>Therapist, horticultural</td>\n",
       "      <td>16/08/1995</td>\n",
       "      <td>7e6011097067231cf9178de050f4dd4c</td>\n",
       "      <td>1387546102</td>\n",
       "      <td>46.332036</td>\n",
       "      <td>-114.660338</td>\n",
       "      <td>0.0</td>\n",
       "      <td>2020-09-01</td>\n",
       "      <td>08:22:00</td>\n",
       "    </tr>\n",
       "    <tr>\n",
       "      <th>486250</th>\n",
       "      <td>527890</td>\n",
       "      <td>2.131570e+14</td>\n",
       "      <td>fraud_Kuvalis Ltd</td>\n",
       "      <td>gas_transport</td>\n",
       "      <td>34.85</td>\n",
       "      <td>Adam</td>\n",
       "      <td>Santos</td>\n",
       "      <td>M</td>\n",
       "      <td>725 Jo Trace Apt. 102</td>\n",
       "      <td>Glendale</td>\n",
       "      <td>...</td>\n",
       "      <td>172817</td>\n",
       "      <td>Advertising account planner</td>\n",
       "      <td>30/07/1982</td>\n",
       "      <td>5f5926277386db598df3be7a7d5d491d</td>\n",
       "      <td>1388022446</td>\n",
       "      <td>33.229608</td>\n",
       "      <td>-118.386434</td>\n",
       "      <td>0.0</td>\n",
       "      <td>2020-09-01</td>\n",
       "      <td>08:22:00</td>\n",
       "    </tr>\n",
       "    <tr>\n",
       "      <th>486251</th>\n",
       "      <td>253663</td>\n",
       "      <td>6.763730e+11</td>\n",
       "      <td>fraud_Hodkiewicz, Prohaska and Paucek</td>\n",
       "      <td>travel</td>\n",
       "      <td>9.22</td>\n",
       "      <td>Vicki</td>\n",
       "      <td>Mendoza</td>\n",
       "      <td>F</td>\n",
       "      <td>3645 Atkins Island Apt. 238</td>\n",
       "      <td>Esbon</td>\n",
       "      <td>...</td>\n",
       "      <td>242</td>\n",
       "      <td>Tourism officer</td>\n",
       "      <td>18/07/1987</td>\n",
       "      <td>04b32f0a628784474a8f48f977605c4d</td>\n",
       "      <td>1379807336</td>\n",
       "      <td>39.316927</td>\n",
       "      <td>-97.617048</td>\n",
       "      <td>0.0</td>\n",
       "      <td>2020-09-01</td>\n",
       "      <td>08:22:00</td>\n",
       "    </tr>\n",
       "    <tr>\n",
       "      <th>486252</th>\n",
       "      <td>33882</td>\n",
       "      <td>3.026700e+13</td>\n",
       "      <td>fraud_Kihn-Fritsch</td>\n",
       "      <td>food_dining</td>\n",
       "      <td>9.39</td>\n",
       "      <td>Sarah</td>\n",
       "      <td>Foster</td>\n",
       "      <td>F</td>\n",
       "      <td>77872 Andrea Glen Apt. 543</td>\n",
       "      <td>Ford</td>\n",
       "      <td>...</td>\n",
       "      <td>1051</td>\n",
       "      <td>Chief Operating Officer</td>\n",
       "      <td>21/11/1976</td>\n",
       "      <td>cfe6c288ba518822c1b6822515a165e1</td>\n",
       "      <td>1372807037</td>\n",
       "      <td>37.084437</td>\n",
       "      <td>-78.715023</td>\n",
       "      <td>0.0</td>\n",
       "      <td>2020-09-01</td>\n",
       "      <td>08:22:00</td>\n",
       "    </tr>\n",
       "    <tr>\n",
       "      <th>486253</th>\n",
       "      <td>347342</td>\n",
       "      <td>5.702730e+11</td>\n",
       "      <td>fraud_Cartwright-Harris</td>\n",
       "      <td>grocery_pos</td>\n",
       "      <td>139.35</td>\n",
       "      <td>Peter</td>\n",
       "      <td>Edwards</td>\n",
       "      <td>M</td>\n",
       "      <td>96122 Steven Flat</td>\n",
       "      <td>Allentown</td>\n",
       "      <td>...</td>\n",
       "      <td>112</td>\n",
       "      <td>Lecturer, higher education</td>\n",
       "      <td>03/02/1965</td>\n",
       "      <td>6a6a2b92549be8f8c37346f316147c86</td>\n",
       "      <td>1383388407</td>\n",
       "      <td>32.869236</td>\n",
       "      <td>-83.755257</td>\n",
       "      <td>0.0</td>\n",
       "      <td>2020-09-01</td>\n",
       "      <td>08:22:00</td>\n",
       "    </tr>\n",
       "  </tbody>\n",
       "</table>\n",
       "<p>486254 rows × 24 columns</p>\n",
       "</div>"
      ],
      "text/plain": [
       "            Id        cc_num                               merchant  \\\n",
       "0       205743  5.596350e+15                        fraud_Berge LLC   \n",
       "1       465349  4.311370e+18    fraud_Eichmann, Bogan and Rodriguez   \n",
       "2        17312  2.264940e+15                fraud_Ankunding-Carroll   \n",
       "3       234968  2.224100e+15       fraud_Schumm, Bauch and Ondricka   \n",
       "4       194255  3.527540e+15                      fraud_Gerlach Inc   \n",
       "...        ...           ...                                    ...   \n",
       "486249  502355  4.292900e+18                    fraud_Wilkinson PLC   \n",
       "486250  527890  2.131570e+14                      fraud_Kuvalis Ltd   \n",
       "486251  253663  6.763730e+11  fraud_Hodkiewicz, Prohaska and Paucek   \n",
       "486252   33882  3.026700e+13                     fraud_Kihn-Fritsch   \n",
       "486253  347342  5.702730e+11                fraud_Cartwright-Harris   \n",
       "\n",
       "             category      amt    first      last gender  \\\n",
       "0       gas_transport    72.18   Joseph     Moody      M   \n",
       "1       gas_transport    36.66  Phillip  Delacruz      M   \n",
       "2              travel     1.74     Juan   Sherman      M   \n",
       "3         grocery_pos   140.99    Sheri    Thomas      F   \n",
       "4        shopping_net  1722.19   Teresa     Stein      F   \n",
       "...               ...      ...      ...       ...    ...   \n",
       "486249      kids_pets     4.30  Jeffrey     Smith      M   \n",
       "486250  gas_transport    34.85     Adam    Santos      M   \n",
       "486251         travel     9.22    Vicki   Mendoza      F   \n",
       "486252    food_dining     9.39    Sarah    Foster      F   \n",
       "486253    grocery_pos   139.35    Peter   Edwards      M   \n",
       "\n",
       "                              street         city  ... city_pop  \\\n",
       "0                   5901 Foster Pine       Kenner  ...    68211   \n",
       "1          26678 Lisa Locks Apt. 904        Iliff  ...      648   \n",
       "2       5939 Garcia Forges Suite 297  San Antonio  ...  1595797   \n",
       "3        019 Kimberly Light Apt. 039    Kings Bay  ...     1293   \n",
       "4         2838 White Fields Apt. 473      Brunson  ...     1725   \n",
       "...                              ...          ...  ...      ...   \n",
       "486249          135 Joseph Mountains         Sula  ...      218   \n",
       "486250         725 Jo Trace Apt. 102     Glendale  ...   172817   \n",
       "486251   3645 Atkins Island Apt. 238        Esbon  ...      242   \n",
       "486252    77872 Andrea Glen Apt. 543         Ford  ...     1051   \n",
       "486253             96122 Steven Flat    Allentown  ...      112   \n",
       "\n",
       "                                job         dob  \\\n",
       "0               Engineer, petroleum  23/04/1941   \n",
       "1             Community arts worker  21/09/1969   \n",
       "2                              Land  17/10/1995   \n",
       "3                   Naval architect  11/09/1963   \n",
       "4                 Social researcher  05/12/1974   \n",
       "...                             ...         ...   \n",
       "486249     Therapist, horticultural  16/08/1995   \n",
       "486250  Advertising account planner  30/07/1982   \n",
       "486251              Tourism officer  18/07/1987   \n",
       "486252      Chief Operating Officer  21/11/1976   \n",
       "486253   Lecturer, higher education  03/02/1965   \n",
       "\n",
       "                               trans_num   unix_time  merch_lat  merch_long  \\\n",
       "0       5223f3d810e0083482e47a5c3a1eba94  1378023768  30.424083  -90.080958   \n",
       "1       25f3a9b8613a9745c5802031bd3a2c62  1386834132  39.871664 -103.457961   \n",
       "2       2a6f3f7c697bc721a80078aefd68d857  1372338223  28.456118  -98.491336   \n",
       "3       fcd03eb50b00fe682d8a47f3bec089a6  1379131971  31.292136  -82.002506   \n",
       "4       d3105e269285b69b334e99433d6a6585  1377711655  33.067620  -80.201090   \n",
       "...                                  ...         ...        ...         ...   \n",
       "486249  7e6011097067231cf9178de050f4dd4c  1387546102  46.332036 -114.660338   \n",
       "486250  5f5926277386db598df3be7a7d5d491d  1388022446  33.229608 -118.386434   \n",
       "486251  04b32f0a628784474a8f48f977605c4d  1379807336  39.316927  -97.617048   \n",
       "486252  cfe6c288ba518822c1b6822515a165e1  1372807037  37.084437  -78.715023   \n",
       "486253  6a6a2b92549be8f8c37346f316147c86  1383388407  32.869236  -83.755257   \n",
       "\n",
       "       is_fraud  trans_date  trans_time  \n",
       "0           0.0  2020-09-01    08:22:00  \n",
       "1           0.0  2020-09-01    08:22:00  \n",
       "2           0.0  2020-09-01    08:22:00  \n",
       "3           0.0  2020-09-01    08:22:00  \n",
       "4           0.0  2020-09-01    08:22:00  \n",
       "...         ...         ...         ...  \n",
       "486249      0.0  2020-09-01    08:22:00  \n",
       "486250      0.0  2020-09-01    08:22:00  \n",
       "486251      0.0  2020-09-01    08:22:00  \n",
       "486252      0.0  2020-09-01    08:22:00  \n",
       "486253      0.0  2020-09-01    08:22:00  \n",
       "\n",
       "[486254 rows x 24 columns]"
      ]
     },
     "execution_count": 344,
     "metadata": {},
     "output_type": "execute_result"
    }
   ],
   "source": [
    "X_train = pd.read_csv('data/X_train.csv')\n",
    "X_train"
   ]
  },
  {
   "cell_type": "code",
   "execution_count": null,
   "id": "86af3f5a",
   "metadata": {},
   "outputs": [],
   "source": []
  }
 ],
 "metadata": {
  "kernelspec": {
   "display_name": "Python 3 (ipykernel)",
   "language": "python",
   "name": "python3"
  },
  "language_info": {
   "codemirror_mode": {
    "name": "ipython",
    "version": 3
   },
   "file_extension": ".py",
   "mimetype": "text/x-python",
   "name": "python",
   "nbconvert_exporter": "python",
   "pygments_lexer": "ipython3",
   "version": "3.9.18"
  }
 },
 "nbformat": 4,
 "nbformat_minor": 5
}
