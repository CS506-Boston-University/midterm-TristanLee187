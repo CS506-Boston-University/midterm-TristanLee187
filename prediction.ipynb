{
 "cells": [
  {
   "cell_type": "code",
   "execution_count": 1,
   "id": "fe49f81c",
   "metadata": {},
   "outputs": [],
   "source": [
    "import pandas as pd\n",
    "import numpy as np\n",
    "from sklearn.model_selection import train_test_split\n",
    "from sklearn.metrics import accuracy_score, f1_score\n",
    "from sklearn.ensemble import RandomForestClassifier\n",
    "from sklearn.tree import DecisionTreeClassifier"
   ]
  },
  {
   "cell_type": "code",
   "execution_count": 131,
   "id": "b15e8df5",
   "metadata": {},
   "outputs": [],
   "source": [
    "X_train = pd.read_csv('data/X_train.csv')"
   ]
  },
  {
   "cell_type": "code",
   "execution_count": 132,
   "id": "97666746",
   "metadata": {},
   "outputs": [],
   "source": [
    "merchant_stats = X_train[X_train['is_fraud'] == 0].groupby('merchant').agg(mean_amt=('amt', np.mean), std_amt=('amt', np.std)).to_dict()\n",
    "fraud_category_rankings = {\n",
    "    'shopping_net': 0,\n",
    "    'grocery_pos': 1,\n",
    "    'misc_net': 2,\n",
    "    'shopping_pos': 3,\n",
    "    'gas_transport': 4,\n",
    "    'misc_pos': 5,\n",
    "    'personal_care': 6,\n",
    "    'home': 7,\n",
    "    'kids_pets': 8,\n",
    "    'entertainment': 9,\n",
    "    'health_fitness': 10,\n",
    "    'food_dining': 11,\n",
    "    'grocery_net': 12,\n",
    "    'travel': 13\n",
    "}\n",
    "def frauds_by_feature(feature):\n",
    "    frauds_feature_stats = X_train[X_train['is_fraud'] == 1].groupby(by=feature).agg({'cc_num': 'count'})\n",
    "    feature_stats = X_train.groupby(by=feature).agg({'cc_num': 'count'})\n",
    "    fraud_rate_df = frauds_feature_stats.merge(feature_stats, how='outer', on=feature, suffixes=('_fraud', '_all'))\n",
    "    fraud_rate_df['fraud_rate'] = fraud_rate_df['cc_num_fraud'].fillna(0)/fraud_rate_df['cc_num_all']\n",
    "    fraud_rate_df.sort_values(by='fraud_rate', ascending=False, inplace=True)\n",
    "    return fraud_rate_df\n",
    "\n",
    "# frauds_by_city = frauds_by_feature('city').to_dict()\n",
    "frauds_by_zip = frauds_by_feature('zip').to_dict()\n",
    "frauds_by_cat = frauds_by_feature('category').to_dict()\n",
    "frauds_by_merc = frauds_by_feature('merchant').to_dict()"
   ]
  },
  {
   "cell_type": "code",
   "execution_count": 133,
   "id": "67d52a03",
   "metadata": {},
   "outputs": [],
   "source": [
    "def transform(df):\n",
    "#     df['cat_fraud_rate'] = df['category'].map(frauds_by_cat['fraud_rate'])\n",
    "    df['category'] = df['category'].map(fraud_category_rankings)\n",
    "    df['hour'] = pd.to_datetime(df['unix_time'],unit='s').dt.hour\n",
    "#     df['month'] = pd.to_datetime(df['unix_time'],unit='s').dt.month\n",
    "#     df['is_night'] = df['hour'].map(lambda x: 1 if x in [21, 22, 23, 0, 1, 2, 3] else 0)\n",
    "#     df['is_expensive'] = df['amt'].map(lambda x: 1 if x>300 else 0)\n",
    "    dates = pd.to_datetime(df['unix_time'],unit='s').dt.date\n",
    "    dobs = pd.to_datetime(df['dob']).dt.date\n",
    "    df['age'] = (dates-dobs) / pd.Timedelta(days=365)\n",
    "#     df['city_fraud_rate'] = df['city'].map(frauds_by_city['fraud_rate'])\n",
    "    df['zip_fraud_rate'] = df['zip'].map(frauds_by_zip['fraud_rate'])\n",
    "    df['merc_fraud_rate'] = df['merchant'].map(frauds_by_merc['fraud_rate'])\n",
    "    \n",
    "    def add_merchant_outlier_column(df):\n",
    "        zipped_merchant_amt_column = pd.Series(zip(df['merchant'], df['amt']))\n",
    "        def merchant_outlier_column(merchant_amt):\n",
    "            merchant, amt = merchant_amt\n",
    "            if merchant not in merchant_stats['mean_amt'] or np.isnan(merchant_stats['std_amt'][merchant]):\n",
    "                return 0\n",
    "            mn, stddev = merchant_stats['mean_amt'][merchant], merchant_stats['std_amt'][merchant]\n",
    "            return (amt-mn)/stddev\n",
    "        outlier_column = zipped_merchant_amt_column.map(merchant_outlier_column)\n",
    "        df['merc_outlier'] = outlier_column\n",
    "\n",
    "    add_merchant_outlier_column(df)\n",
    "    \n",
    "    return df"
   ]
  },
  {
   "cell_type": "code",
   "execution_count": 134,
   "id": "3a87c52b",
   "metadata": {},
   "outputs": [],
   "source": [
    "def prep_for_prediction(df):\n",
    "    df = transform(df)\n",
    "    return df[['category', 'hour', 'amt',\n",
    "               'zip_fraud_rate', 'merc_fraud_rate', 'merc_outlier',\n",
    "               'is_fraud']]\n",
    "#     return df._get_numeric_data()"
   ]
  },
  {
   "cell_type": "code",
   "execution_count": 135,
   "id": "97c1c012",
   "metadata": {},
   "outputs": [
    {
     "name": "stderr",
     "output_type": "stream",
     "text": [
      "/var/folders/rz/znvx90ld6vnbmf6g3sf73y2w0000gn/T/ipykernel_7211/1338202913.py:9: UserWarning: Parsing dates in DD/MM/YYYY format when dayfirst=False (the default) was specified. This may lead to inconsistently parsed dates! Specify a format to ensure consistent parsing.\n",
      "  dobs = pd.to_datetime(df['dob']).dt.date\n"
     ]
    }
   ],
   "source": [
    "X_train = prep_for_prediction(X_train)"
   ]
  },
  {
   "cell_type": "code",
   "execution_count": 136,
   "id": "d7a0779b",
   "metadata": {},
   "outputs": [],
   "source": [
    "X_train, X_test, Y_train, Y_test = train_test_split(\n",
    "        X_train.drop(['is_fraud'], axis=1),\n",
    "        X_train['is_fraud'],\n",
    "        test_size=1/20,\n",
    "        random_state=0\n",
    "    )"
   ]
  },
  {
   "cell_type": "code",
   "execution_count": 137,
   "id": "b6515904",
   "metadata": {},
   "outputs": [],
   "source": [
    "model = RandomForestClassifier(class_weight='balanced', max_features=None).fit(X_train, Y_train)\n",
    "# model = DecisionTreeClassifier(class_weight='balanced', max_features=None).fit(X_train, Y_train)"
   ]
  },
  {
   "cell_type": "code",
   "execution_count": 138,
   "id": "63133bdb",
   "metadata": {},
   "outputs": [
    {
     "name": "stdout",
     "output_type": "stream",
     "text": [
      "[('zip_fraud_rate', 0.6489403201753564),\n",
      " ('amt', 0.16620472763201152),\n",
      " ('merc_outlier', 0.08454432060608562),\n",
      " ('hour', 0.03657349616878997),\n",
      " ('merc_fraud_rate', 0.03312727318599082),\n",
      " ('category', 0.030609862231765622)]\n"
     ]
    }
   ],
   "source": [
    "# check importances of each feature (for decision tree + random forest)\n",
    "from pprint import pprint\n",
    "pprint(sorted(list(zip(X_train.columns, model.feature_importances_)), key=(lambda x: (x[1], x[0])), reverse=True))"
   ]
  },
  {
   "cell_type": "code",
   "execution_count": 139,
   "id": "ea120865",
   "metadata": {},
   "outputs": [
    {
     "name": "stdout",
     "output_type": "stream",
     "text": [
      "Accuracy on testing set =  0.9990540040307654\n",
      "F1 score on testing set =  0.877005347593583\n"
     ]
    }
   ],
   "source": [
    "predictions = model.predict(X_test)\n",
    "print(\"Accuracy on testing set = \", accuracy_score(Y_test, predictions))\n",
    "print(\"F1 score on testing set = \", f1_score(Y_test, predictions))"
   ]
  },
  {
   "cell_type": "code",
   "execution_count": 140,
   "id": "04529f6e",
   "metadata": {},
   "outputs": [
    {
     "name": "stdout",
     "output_type": "stream",
     "text": [
      "0.003860122487424268\n"
     ]
    }
   ],
   "source": [
    "# target fraction of frauds\n",
    "print((Y_train.sum() + Y_test.sum())/(len(X_test)+len(X_train)))"
   ]
  },
  {
   "cell_type": "code",
   "execution_count": 141,
   "id": "2c0ea123",
   "metadata": {},
   "outputs": [
    {
     "data": {
      "text/plain": [
       "0.0036605930983424507"
      ]
     },
     "execution_count": 141,
     "metadata": {},
     "output_type": "execute_result"
    }
   ],
   "source": [
    "predictions.sum() / len(predictions)"
   ]
  },
  {
   "cell_type": "code",
   "execution_count": 142,
   "id": "054b0f05",
   "metadata": {},
   "outputs": [
    {
     "name": "stderr",
     "output_type": "stream",
     "text": [
      "/var/folders/rz/znvx90ld6vnbmf6g3sf73y2w0000gn/T/ipykernel_7211/1338202913.py:9: UserWarning: Parsing dates in DD/MM/YYYY format when dayfirst=False (the default) was specified. This may lead to inconsistently parsed dates! Specify a format to ensure consistent parsing.\n",
      "  dobs = pd.to_datetime(df['dob']).dt.date\n"
     ]
    }
   ],
   "source": [
    "# load/transform testing data\n",
    "X_predict = pd.read_csv('data/X_test.csv')\n",
    "submission = X_predict[['Id']]\n",
    "X_predict = prep_for_prediction(X_predict).drop(columns=['is_fraud'])"
   ]
  },
  {
   "cell_type": "code",
   "execution_count": 143,
   "id": "b783d5c7",
   "metadata": {},
   "outputs": [
    {
     "data": {
      "text/plain": [
       "0.003167062549485352"
      ]
     },
     "execution_count": 143,
     "metadata": {},
     "output_type": "execute_result"
    }
   ],
   "source": [
    "predictions = model.predict(X_predict)\n",
    "predictions.sum() / len(predictions)"
   ]
  },
  {
   "cell_type": "code",
   "execution_count": 144,
   "id": "41919f56",
   "metadata": {},
   "outputs": [
    {
     "name": "stderr",
     "output_type": "stream",
     "text": [
      "/var/folders/rz/znvx90ld6vnbmf6g3sf73y2w0000gn/T/ipykernel_7211/2268796606.py:2: SettingWithCopyWarning: \n",
      "A value is trying to be set on a copy of a slice from a DataFrame.\n",
      "Try using .loc[row_indexer,col_indexer] = value instead\n",
      "\n",
      "See the caveats in the documentation: https://pandas.pydata.org/pandas-docs/stable/user_guide/indexing.html#returning-a-view-versus-a-copy\n",
      "  submission['is_fraud'] = predictions\n"
     ]
    }
   ],
   "source": [
    "# export\n",
    "submission['is_fraud'] = predictions\n",
    "submission.to_csv('data/submission.csv', index=False)"
   ]
  }
 ],
 "metadata": {
  "kernelspec": {
   "display_name": "Python 3 (ipykernel)",
   "language": "python",
   "name": "python3"
  },
  "language_info": {
   "codemirror_mode": {
    "name": "ipython",
    "version": 3
   },
   "file_extension": ".py",
   "mimetype": "text/x-python",
   "name": "python",
   "nbconvert_exporter": "python",
   "pygments_lexer": "ipython3",
   "version": "3.9.18"
  }
 },
 "nbformat": 4,
 "nbformat_minor": 5
}
